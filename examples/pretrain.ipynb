{
 "cells": [
  {
   "cell_type": "code",
   "execution_count": 1,
   "metadata": {},
   "outputs": [],
   "source": [
    "import os\n",
    "import gentrl\n",
    "import torch\n",
    "import pandas as pd\n",
    "# torch.cuda.set_device(0)"
   ]
  },
  {
   "cell_type": "code",
   "execution_count": 2,
   "metadata": {},
   "outputs": [],
   "source": [
    "from moses.metrics import mol_passes_filters, QED, SA, logP\n",
    "from moses.metrics.utils import get_n_rings, get_mol\n",
    "\n",
    "\n",
    "def get_num_rings_6(mol):\n",
    "    r = mol.GetRingInfo()\n",
    "    return len([x for x in r.AtomRings() if len(x) > 6])\n",
    "\n",
    "\n",
    "def penalized_logP(mol_or_smiles, masked=False, default=-5):\n",
    "    mol = get_mol(mol_or_smiles)\n",
    "    if mol is None:\n",
    "        return default\n",
    "    reward = logP(mol) - SA(mol) - get_num_rings_6(mol)\n",
    "    if masked and not mol_passes_filters(mol):\n",
    "        return default\n",
    "    return reward"
   ]
  },
  {
   "cell_type": "code",
   "execution_count": 3,
   "metadata": {},
   "outputs": [],
   "source": [
    "# ! wget --no-clobber https://media.githubusercontent.com/media/molecularsets/moses/master/data/dataset_v1.csv"
   ]
  },
  {
   "cell_type": "code",
   "execution_count": 4,
   "metadata": {},
   "outputs": [
    {
     "name": "stdout",
     "output_type": "stream",
     "text": [
      "Loading from osm_plogp_plogpm.csv\n",
      "Training data shape (1248, 18)\n"
     ]
    }
   ],
   "source": [
    "import os\n",
    "target_path = 'osm_plogp_plogpm.csv'\n",
    "input_datafile = 'Ion Regulation Data for OSM Competition - Malaria Molecules.csv'\n",
    "if os.path.exists(target_path):\n",
    "    print(f\"Loading from {target_path}\")\n",
    "    df = pd.read_csv(target_path)\n",
    "    # df = df[df['SPLIT'] == 'train']\n",
    "else:\n",
    "    print(f\"Loading original data from {input_datafile} and calculating penalized_logP\")\n",
    "    df = pd.read_csv(input_datafile)\n",
    "    # df = df[df['SPLIT'] == 'train']\n",
    "    column_name = 'SMILES'\n",
    "    df = df[(df[column_name].notnull()) & (df[column_name]!=u'')]\n",
    "    df['plogP'] = df[column_name].apply(penalized_logP)\n",
    "    df.to_csv(target_path, index=None)\n",
    "print(f\"Training data shape {df.shape}\")"
   ]
  },
  {
   "cell_type": "code",
   "execution_count": 5,
   "metadata": {},
   "outputs": [
    {
     "name": "stdout",
     "output_type": "stream",
     "text": [
      "Training data shape (1248, 18)\n"
     ]
    }
   ],
   "source": [
    "print(f\"Training data shape {df.shape}\")"
   ]
  },
  {
   "cell_type": "code",
   "execution_count": 6,
   "metadata": {},
   "outputs": [
    {
     "data": {
      "text/plain": [
       "0"
      ]
     },
     "execution_count": 6,
     "metadata": {},
     "output_type": "execute_result"
    }
   ],
   "source": [
    "torch.cuda.is_available()\n",
    "torch.cuda.device_count()\n",
    "# torch.cuda.get_device_capability()"
   ]
  },
  {
   "cell_type": "code",
   "execution_count": 7,
   "metadata": {},
   "outputs": [],
   "source": [
    "enc = gentrl.RNNEncoder(latent_size=50)\n",
    "dec = gentrl.DilConvDecoder(latent_input_size=50)\n",
    "model = gentrl.GENTRL(enc, dec, 50 * [('c', 20)], [('c', 20)], beta=0.001)\n",
    "#model.cuda();"
   ]
  },
  {
   "cell_type": "code",
   "execution_count": 8,
   "metadata": {},
   "outputs": [],
   "source": [
    "md = gentrl.MolecularDataset(sources=[\n",
    "    {'path': target_path,\n",
    "     'smiles': 'SMILES',\n",
    "     'prob': 1,\n",
    "     'plogP' : 'plogP',\n",
    "    }], \n",
    "    props=['plogP'])\n",
    "\n",
    "from torch.utils.data import DataLoader\n",
    "train_loader = DataLoader(md, batch_size=50, shuffle=True, num_workers=1, drop_last=True)"
   ]
  },
  {
   "cell_type": "code",
   "execution_count": 9,
   "metadata": {},
   "outputs": [],
   "source": [
    "#sm_str = 'CCN(CC)CCN1C(=N)N(CC(O)c2ccc(Cl)c(Cl)c2)c3ccccc13'\n",
    "#from gentrl.tokenizer import encode, smiles_tokenizer\n",
    "#tenc = encode([sm_str])\n",
    "#print(tenc)"
   ]
  },
  {
   "cell_type": "code",
   "execution_count": 10,
   "metadata": {},
   "outputs": [],
   "source": [
    "#for ind, sm_str in enumerate(df['SMILES']):\n",
    "#    try:\n",
    "#        test_enc = model.enc.encode([sm_str])\n",
    "#    except Exception as exc:\n",
    "#        print(f'Error encoding line {ind} {sm_str}: {exc}')"
   ]
  },
  {
   "cell_type": "code",
   "execution_count": 11,
   "metadata": {},
   "outputs": [],
   "source": [
    "model.load('./osm_saved_gentrl')"
   ]
  },
  {
   "cell_type": "code",
   "execution_count": 12,
   "metadata": {
    "scrolled": false
   },
   "outputs": [
    {
     "name": "stdout",
     "output_type": "stream",
     "text": [
      "Epoch 0 :\n",
      "!!!!!!!!!!!!!!!!!!!!!!!!loss: 1.048;rec: -0.8336;kl: 14.15;log_p_y_by_z: -2.001;log_p_z_by_y: -34.68;\n",
      "Epoch 2 :\n",
      "!!!!!!!!!!!!!!!!!!!!!!!!loss: 1.002;rec: -0.8376;kl: 10.09;log_p_y_by_z: -1.538;log_p_z_by_y: -28.02;\n",
      "Epoch 4 :\n",
      "!!!!!!!!!!!!!!!!!!!!!!!!loss: 0.9842;rec: -0.826;kl: 10.11;log_p_y_by_z: -1.481;log_p_z_by_y: -24.29;\n",
      "Epoch 6 :\n",
      "!!!!!!!!!!!!!!!!!!!!!!!!loss: 0.9716;rec: -0.8161;kl: 11.41;log_p_y_by_z: -1.441;log_p_z_by_y: -22.96;\n",
      "Epoch 8 :\n",
      "!!!!!!!!!!!!!!!!!!!!!!!!loss: 0.9529;rec: -0.8036;kl: 12.3;log_p_y_by_z: -1.369;log_p_z_by_y: -21.72;\n",
      "Epoch 10 :\n",
      "!!!!!!!!!!!!!!!!!!!!!!!!loss: 0.9369;rec: -0.7887;kl: 12.48;log_p_y_by_z: -1.357;log_p_z_by_y: -20.24;\n",
      "Epoch 12 :\n",
      "!!!!!!!!!!!!!!!!!!!!!!!!loss: 0.9211;rec: -0.7745;kl: 14.84;log_p_y_by_z: -1.317;log_p_z_by_y: -19.58;\n",
      "Epoch 14 :\n",
      "!!!!!!!!!!!!!!!!!!!!!!!!loss: 0.9119;rec: -0.7663;kl: 15.24;log_p_y_by_z: -1.304;log_p_z_by_y: -18.96;\n",
      "Epoch 16 :\n",
      "!!!!!!!!!!!!!!!!!!!!!!!!loss: 0.9043;rec: -0.7619;kl: 15.97;log_p_y_by_z: -1.265;log_p_z_by_y: -18.08;\n",
      "Epoch 18 :\n",
      "!!!!!!!!!!!!!!!!!!!!!!!!loss: 0.8836;rec: -0.7447;kl: 17.59;log_p_y_by_z: -1.213;log_p_z_by_y: -17.14;\n",
      "Epoch 20 :\n",
      "!!!!!!!!!!!!!!!!!!!!!!!!loss: 0.8674;rec: -0.7299;kl: 17.58;log_p_y_by_z: -1.199;log_p_z_by_y: -16.39;\n",
      "Epoch 22 :\n",
      "!!!!!!!!!!!!!!!!!!!!!!!!loss: 0.864;rec: -0.7268;kl: 18.5;log_p_y_by_z: -1.187;log_p_z_by_y: -15.51;\n",
      "Epoch 24 :\n",
      "!!!!!!!!!!!!!!!!!!!!!!!!loss: 0.8501;rec: -0.7123;kl: 19.52;log_p_y_by_z: -1.184;log_p_z_by_y: -14.83;\n",
      "Epoch 26 :\n",
      "!!!!!!!!!!!!!!!!!!!!!!!!loss: 0.8343;rec: -0.7005;kl: 20.19;log_p_y_by_z: -1.136;log_p_z_by_y: -13.6;\n",
      "Epoch 28 :\n",
      "!!!!!!!!!!!!!!!!!!!!!!!!loss: 0.8246;rec: -0.6887;kl: 21.84;log_p_y_by_z: -1.141;log_p_z_by_y: -12.39;\n",
      "Epoch 30 :\n",
      "!!!!!!!!!!!!!!!!!!!!!!!!loss: 0.8233;rec: -0.6866;kl: 21.74;log_p_y_by_z: -1.15;log_p_z_by_y: -13.0;\n",
      "Epoch 32 :\n",
      "!!!!!!!!!!!!!!!!!!!!!!!!loss: 0.8202;rec: -0.6786;kl: 22.86;log_p_y_by_z: -1.187;log_p_z_by_y: -12.54;\n",
      "Epoch 34 :\n",
      "!!!!!!!!!!!!!!!!!!!!!!!!loss: 0.7915;rec: -0.6619;kl: 24.19;log_p_y_by_z: -1.054;log_p_z_by_y: -11.58;\n",
      "Epoch 36 :\n",
      "!!!!!!!!!!!!!!!!!!!!!!!!loss: 0.7781;rec: -0.6494;kl: 25.81;log_p_y_by_z: -1.028;log_p_z_by_y: -10.22;\n",
      "Epoch 38 :\n",
      "!!!!!!!!!!!!!!!!!!!!!!!!loss: 0.7656;rec: -0.6393;kl: 25.99;log_p_y_by_z: -1.003;log_p_z_by_y: -10.16;\n",
      "Epoch 40 :\n",
      "!!!!!!!!!!!!!!!!!!!!!!!!loss: 0.7598;rec: -0.6377;kl: 26.53;log_p_y_by_z: -0.9562;log_p_z_by_y: -9.212;\n",
      "Epoch 42 :\n",
      "!!!!!!!!!!!!!!!!!!!!!!!!loss: 0.7507;rec: -0.6227;kl: 27.9;log_p_y_by_z: -1.001;log_p_z_by_y: -9.446;\n",
      "Epoch 44 :\n",
      "!!!!!!!!!!!!!!!!!!!!!!!!loss: 0.7327;rec: -0.6091;kl: 28.83;log_p_y_by_z: -0.947;log_p_z_by_y: -8.67;\n",
      "Epoch 46 :\n",
      "!!!!!!!!!!!!!!!!!!!!!!!!loss: 0.717;rec: -0.5994;kl: 30.03;log_p_y_by_z: -0.8758;log_p_z_by_y: -7.958;\n",
      "Epoch 48 :\n",
      "!!!!!!!!!!!!!!!!!!!!!!!!loss: 0.7129;rec: -0.5933;kl: 31.35;log_p_y_by_z: -0.8828;log_p_z_by_y: -7.317;\n"
     ]
    },
    {
     "data": {
      "text/plain": [
       "<gentrl.gentrl.TrainStats at 0x7fc07a334a10>"
      ]
     },
     "execution_count": 12,
     "metadata": {},
     "output_type": "execute_result"
    }
   ],
   "source": [
    "model.train_as_vaelp(train_loader, num_epochs=50, lr=1e-4, buf_size=500)"
   ]
  },
  {
   "cell_type": "code",
   "execution_count": 13,
   "metadata": {},
   "outputs": [],
   "source": [
    "! mkdir -p osm_saved_gentrl"
   ]
  },
  {
   "cell_type": "code",
   "execution_count": 14,
   "metadata": {},
   "outputs": [],
   "source": [
    "model.save('./osm_saved_gentrl/')"
   ]
  },
  {
   "cell_type": "code",
   "execution_count": null,
   "metadata": {},
   "outputs": [],
   "source": []
  }
 ],
 "metadata": {
  "kernelspec": {
   "display_name": "Python 3",
   "language": "python",
   "name": "python3"
  },
  "language_info": {
   "codemirror_mode": {
    "name": "ipython",
    "version": 3
   },
   "file_extension": ".py",
   "mimetype": "text/x-python",
   "name": "python",
   "nbconvert_exporter": "python",
   "pygments_lexer": "ipython3",
   "version": "3.7.4"
  }
 },
 "nbformat": 4,
 "nbformat_minor": 2
}
