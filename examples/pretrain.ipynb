{
 "cells": [
  {
   "cell_type": "code",
   "execution_count": 1,
   "metadata": {},
   "outputs": [],
   "source": [
    "import os\n",
    "import gentrl\n",
    "import torch\n",
    "import pandas as pd\n",
    "# torch.cuda.set_device(0)"
   ]
  },
  {
   "cell_type": "code",
   "execution_count": 2,
   "metadata": {},
   "outputs": [],
   "source": [
    "from moses.metrics import mol_passes_filters, QED, SA, logP\n",
    "from moses.metrics.utils import get_n_rings, get_mol\n",
    "\n",
    "\n",
    "def get_num_rings_6(mol):\n",
    "    r = mol.GetRingInfo()\n",
    "    return len([x for x in r.AtomRings() if len(x) > 6])\n",
    "\n",
    "\n",
    "def penalized_logP(mol_or_smiles, masked=False, default=-5):\n",
    "    mol = get_mol(mol_or_smiles)\n",
    "    if mol is None:\n",
    "        return default\n",
    "    reward = logP(mol) - SA(mol) - get_num_rings_6(mol)\n",
    "    if masked and not mol_passes_filters(mol):\n",
    "        return default\n",
    "    return reward"
   ]
  },
  {
   "cell_type": "code",
   "execution_count": 3,
   "metadata": {},
   "outputs": [],
   "source": [
    "# ! wget --no-clobber https://media.githubusercontent.com/media/molecularsets/moses/master/data/dataset_v1.csv"
   ]
  },
  {
   "cell_type": "code",
   "execution_count": 4,
   "metadata": {},
   "outputs": [
    {
     "name": "stdout",
     "output_type": "stream",
     "text": [
      "Loading from osm_plogp_plogpm.csv\n",
      "Training data shape (1248, 18)\n"
     ]
    }
   ],
   "source": [
    "import os\n",
    "target_path = 'osm_plogp_plogpm.csv'\n",
    "input_datafile = 'Ion Regulation Data for OSM Competition - Malaria Molecules.csv'\n",
    "if os.path.exists(target_path):\n",
    "    print(f\"Loading from {target_path}\")\n",
    "    df = pd.read_csv(target_path)\n",
    "    # df = df[df['SPLIT'] == 'train']\n",
    "else:\n",
    "    print(f\"Loading original data from {input_datafile} and calculating penalized_logP\")\n",
    "    df = pd.read_csv(input_datafile)\n",
    "    # df = df[df['SPLIT'] == 'train']\n",
    "    column_name = 'SMILES'\n",
    "    df = df[(df[column_name].notnull()) & (df[column_name]!=u'')]\n",
    "    df['plogP'] = df[column_name].apply(penalized_logP)\n",
    "    df.to_csv(target_path, index=None)\n",
    "print(f\"Training data shape {df.shape}\")"
   ]
  },
  {
   "cell_type": "code",
   "execution_count": 5,
   "metadata": {},
   "outputs": [
    {
     "name": "stdout",
     "output_type": "stream",
     "text": [
      "Training data shape (1248, 18)\n"
     ]
    }
   ],
   "source": [
    "print(f\"Training data shape {df.shape}\")"
   ]
  },
  {
   "cell_type": "code",
   "execution_count": 6,
   "metadata": {},
   "outputs": [
    {
     "data": {
      "text/plain": [
       "0"
      ]
     },
     "execution_count": 6,
     "metadata": {},
     "output_type": "execute_result"
    }
   ],
   "source": [
    "torch.cuda.is_available()\n",
    "torch.cuda.device_count()\n",
    "# torch.cuda.get_device_capability()"
   ]
  },
  {
   "cell_type": "code",
   "execution_count": 7,
   "metadata": {},
   "outputs": [],
   "source": [
    "enc = gentrl.RNNEncoder(latent_size=50)\n",
    "dec = gentrl.DilConvDecoder(latent_input_size=50)\n",
    "model = gentrl.GENTRL(enc, dec, 50 * [('c', 20)], [('c', 20)], beta=0.001)\n",
    "#model.cuda();"
   ]
  },
  {
   "cell_type": "code",
   "execution_count": 8,
   "metadata": {},
   "outputs": [],
   "source": [
    "md = gentrl.MolecularDataset(sources=[\n",
    "    {'path': target_path,\n",
    "     'smiles': 'SMILES',\n",
    "     'prob': 1,\n",
    "     'plogP' : 'plogP',\n",
    "    }], \n",
    "    props=['plogP'])\n",
    "\n",
    "from torch.utils.data import DataLoader\n",
    "train_loader = DataLoader(md, batch_size=50, shuffle=True, num_workers=1, drop_last=True)"
   ]
  },
  {
   "cell_type": "code",
   "execution_count": 9,
   "metadata": {},
   "outputs": [],
   "source": [
    "#sm_str = 'CCN(CC)CCN1C(=N)N(CC(O)c2ccc(Cl)c(Cl)c2)c3ccccc13'\n",
    "#from gentrl.tokenizer import encode, smiles_tokenizer\n",
    "#tenc = encode([sm_str])\n",
    "#print(tenc)"
   ]
  },
  {
   "cell_type": "code",
   "execution_count": 10,
   "metadata": {},
   "outputs": [],
   "source": [
    "for ind, sm_str in enumerate(df['SMILES']):\n",
    "    try:\n",
    "        test_enc = model.enc.encode([sm_str])\n",
    "    except Exception as exc:\n",
    "        print(f'Error encoding line {ind} {sm_str}: {exc}')"
   ]
  },
  {
   "cell_type": "code",
   "execution_count": 11,
   "metadata": {
    "scrolled": false
   },
   "outputs": [
    {
     "name": "stdout",
     "output_type": "stream",
     "text": [
      "Epoch 0 :\n",
      "!!!!!!!!!!!!!!!!!!!!!!!!loss:  3.6;rec: -3.463;kl: -61.76;log_p_y_by_z: -1.985;log_p_z_by_y: -77.77;\n",
      "Epoch 2 :\n",
      "!!!!!!!!!!!!!!!!!!!!!!!!loss: 2.74;rec: -2.621;kl: -62.47;log_p_y_by_z: -1.819;log_p_z_by_y: -74.17;\n",
      "Epoch 4 :\n",
      "!!!!!!!!!!!!!!!!!!!!!!!!loss: 2.351;rec: -2.226;kl: -58.07;log_p_y_by_z: -1.83;log_p_z_by_y: -70.13;\n",
      "Epoch 6 :\n",
      "!!!!!!!!!!!!!!!!!!!!!!!!loss: 2.137;rec: -2.006;kl: -51.25;log_p_y_by_z: -1.825;log_p_z_by_y: -65.24;\n",
      "Epoch 8 :\n",
      "!!!!!!!!!!!!!!!!!!!!!!!!loss: 1.978;rec: -1.84;kl: -43.65;log_p_y_by_z: -1.815;log_p_z_by_y: -60.59;\n"
     ]
    },
    {
     "data": {
      "text/plain": [
       "<gentrl.gentrl.TrainStats at 0x7faa51235d90>"
      ]
     },
     "execution_count": 11,
     "metadata": {},
     "output_type": "execute_result"
    }
   ],
   "source": [
    "model.train_as_vaelp(train_loader, lr=1e-4, buf_size=500)"
   ]
  },
  {
   "cell_type": "code",
   "execution_count": 12,
   "metadata": {},
   "outputs": [],
   "source": [
    "! mkdir -p osm_saved_gentrl"
   ]
  },
  {
   "cell_type": "code",
   "execution_count": 13,
   "metadata": {},
   "outputs": [],
   "source": [
    "model.save('./osm_saved_gentrl/')"
   ]
  },
  {
   "cell_type": "code",
   "execution_count": null,
   "metadata": {},
   "outputs": [],
   "source": []
  }
 ],
 "metadata": {
  "kernelspec": {
   "display_name": "Python 3",
   "language": "python",
   "name": "python3"
  },
  "language_info": {
   "codemirror_mode": {
    "name": "ipython",
    "version": 3
   },
   "file_extension": ".py",
   "mimetype": "text/x-python",
   "name": "python",
   "nbconvert_exporter": "python",
   "pygments_lexer": "ipython3",
   "version": "3.7.4"
  }
 },
 "nbformat": 4,
 "nbformat_minor": 2
}
